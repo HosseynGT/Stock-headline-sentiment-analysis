{
 "cells": [
  {
   "cell_type": "code",
   "execution_count": 1,
   "metadata": {
    "executionInfo": {
     "elapsed": 1172,
     "status": "ok",
     "timestamp": 1619603210462,
     "user": {
      "displayName": "Hossein Gerami Tehrani",
      "photoUrl": "https://lh3.googleusercontent.com/a-/AOh14GhkNzAyX4yvcnHvQpbwcVSNTzIpr6aIC0MxHfd48g=s64",
      "userId": "11066035846197036072"
     },
     "user_tz": -180
    },
    "id": "hH4_Gxo036CF"
   },
   "outputs": [],
   "source": [
    "import os"
   ]
  },
  {
   "cell_type": "code",
   "execution_count": 2,
   "metadata": {
    "executionInfo": {
     "elapsed": 1719,
     "status": "ok",
     "timestamp": 1619602885707,
     "user": {
      "displayName": "Hossein Gerami Tehrani",
      "photoUrl": "https://lh3.googleusercontent.com/a-/AOh14GhkNzAyX4yvcnHvQpbwcVSNTzIpr6aIC0MxHfd48g=s64",
      "userId": "11066035846197036072"
     },
     "user_tz": -180
    },
    "id": "dyUq8ANb2iZs"
   },
   "outputs": [],
   "source": [
    "import pandas as pd\n",
    "import numpy as np"
   ]
  },
  {
   "cell_type": "code",
   "execution_count": 3,
   "metadata": {
    "executionInfo": {
     "elapsed": 1750,
     "status": "ok",
     "timestamp": 1619602885703,
     "user": {
      "displayName": "Hossein Gerami Tehrani",
      "photoUrl": "https://lh3.googleusercontent.com/a-/AOh14GhkNzAyX4yvcnHvQpbwcVSNTzIpr6aIC0MxHfd48g=s64",
      "userId": "11066035846197036072"
     },
     "user_tz": -180
    },
    "id": "iOmxgp052iZ-"
   },
   "outputs": [],
   "source": [
    "data_path = '../data/'\n",
    "raw_data_name = 'raw_analyst_ratings.csv.zip'\n",
    "raw_data_file = os.path.join(data_path, raw_data_name)"
   ]
  },
  {
   "cell_type": "code",
   "execution_count": 4,
   "metadata": {
    "executionInfo": {
     "elapsed": 15804,
     "status": "ok",
     "timestamp": 1619606890703,
     "user": {
      "displayName": "Hossein Gerami Tehrani",
      "photoUrl": "https://lh3.googleusercontent.com/a-/AOh14GhkNzAyX4yvcnHvQpbwcVSNTzIpr6aIC0MxHfd48g=s64",
      "userId": "11066035846197036072"
     },
     "user_tz": -180
    },
    "id": "tWj2YYTv2iaC"
   },
   "outputs": [],
   "source": [
    "df = pd.read_csv(raw_data_file).drop(columns='Unnamed: 0')"
   ]
  },
  {
   "cell_type": "code",
   "execution_count": 5,
   "metadata": {
    "colab": {
     "base_uri": "https://localhost:8080/",
     "height": 195
    },
    "executionInfo": {
     "elapsed": 1457,
     "status": "ok",
     "timestamp": 1619606913027,
     "user": {
      "displayName": "Hossein Gerami Tehrani",
      "photoUrl": "https://lh3.googleusercontent.com/a-/AOh14GhkNzAyX4yvcnHvQpbwcVSNTzIpr6aIC0MxHfd48g=s64",
      "userId": "11066035846197036072"
     },
     "user_tz": -180
    },
    "id": "HK0_SimS2iaF",
    "outputId": "e5b46ec2-6f78-4bac-b71e-e5eafe461898"
   },
   "outputs": [
    {
     "data": {
      "text/html": [
       "<div>\n",
       "<style scoped>\n",
       "    .dataframe tbody tr th:only-of-type {\n",
       "        vertical-align: middle;\n",
       "    }\n",
       "\n",
       "    .dataframe tbody tr th {\n",
       "        vertical-align: top;\n",
       "    }\n",
       "\n",
       "    .dataframe thead th {\n",
       "        text-align: right;\n",
       "    }\n",
       "</style>\n",
       "<table border=\"1\" class=\"dataframe\">\n",
       "  <thead>\n",
       "    <tr style=\"text-align: right;\">\n",
       "      <th></th>\n",
       "      <th>headline</th>\n",
       "      <th>url</th>\n",
       "      <th>publisher</th>\n",
       "      <th>date</th>\n",
       "      <th>stock</th>\n",
       "    </tr>\n",
       "  </thead>\n",
       "  <tbody>\n",
       "    <tr>\n",
       "      <th>0</th>\n",
       "      <td>Stocks That Hit 52-Week Highs On Friday</td>\n",
       "      <td>https://www.benzinga.com/news/20/06/16190091/s...</td>\n",
       "      <td>Benzinga Insights</td>\n",
       "      <td>2020-06-05 10:30:54-04:00</td>\n",
       "      <td>A</td>\n",
       "    </tr>\n",
       "    <tr>\n",
       "      <th>1</th>\n",
       "      <td>Stocks That Hit 52-Week Highs On Wednesday</td>\n",
       "      <td>https://www.benzinga.com/news/20/06/16170189/s...</td>\n",
       "      <td>Benzinga Insights</td>\n",
       "      <td>2020-06-03 10:45:20-04:00</td>\n",
       "      <td>A</td>\n",
       "    </tr>\n",
       "    <tr>\n",
       "      <th>2</th>\n",
       "      <td>71 Biggest Movers From Friday</td>\n",
       "      <td>https://www.benzinga.com/news/20/05/16103463/7...</td>\n",
       "      <td>Lisa Levin</td>\n",
       "      <td>2020-05-26 04:30:07-04:00</td>\n",
       "      <td>A</td>\n",
       "    </tr>\n",
       "    <tr>\n",
       "      <th>3</th>\n",
       "      <td>46 Stocks Moving In Friday's Mid-Day Session</td>\n",
       "      <td>https://www.benzinga.com/news/20/05/16095921/4...</td>\n",
       "      <td>Lisa Levin</td>\n",
       "      <td>2020-05-22 12:45:06-04:00</td>\n",
       "      <td>A</td>\n",
       "    </tr>\n",
       "    <tr>\n",
       "      <th>4</th>\n",
       "      <td>B of A Securities Maintains Neutral on Agilent...</td>\n",
       "      <td>https://www.benzinga.com/news/20/05/16095304/b...</td>\n",
       "      <td>Vick Meyer</td>\n",
       "      <td>2020-05-22 11:38:59-04:00</td>\n",
       "      <td>A</td>\n",
       "    </tr>\n",
       "  </tbody>\n",
       "</table>\n",
       "</div>"
      ],
      "text/plain": [
       "                                            headline  \\\n",
       "0            Stocks That Hit 52-Week Highs On Friday   \n",
       "1         Stocks That Hit 52-Week Highs On Wednesday   \n",
       "2                      71 Biggest Movers From Friday   \n",
       "3       46 Stocks Moving In Friday's Mid-Day Session   \n",
       "4  B of A Securities Maintains Neutral on Agilent...   \n",
       "\n",
       "                                                 url          publisher  \\\n",
       "0  https://www.benzinga.com/news/20/06/16190091/s...  Benzinga Insights   \n",
       "1  https://www.benzinga.com/news/20/06/16170189/s...  Benzinga Insights   \n",
       "2  https://www.benzinga.com/news/20/05/16103463/7...         Lisa Levin   \n",
       "3  https://www.benzinga.com/news/20/05/16095921/4...         Lisa Levin   \n",
       "4  https://www.benzinga.com/news/20/05/16095304/b...         Vick Meyer   \n",
       "\n",
       "                        date stock  \n",
       "0  2020-06-05 10:30:54-04:00     A  \n",
       "1  2020-06-03 10:45:20-04:00     A  \n",
       "2  2020-05-26 04:30:07-04:00     A  \n",
       "3  2020-05-22 12:45:06-04:00     A  \n",
       "4  2020-05-22 11:38:59-04:00     A  "
      ]
     },
     "execution_count": 5,
     "metadata": {},
     "output_type": "execute_result"
    }
   ],
   "source": [
    "df.head()"
   ]
  },
  {
   "cell_type": "code",
   "execution_count": 44,
   "metadata": {
    "colab": {
     "base_uri": "https://localhost:8080/"
    },
    "executionInfo": {
     "elapsed": 1011,
     "status": "ok",
     "timestamp": 1619606918992,
     "user": {
      "displayName": "Hossein Gerami Tehrani",
      "photoUrl": "https://lh3.googleusercontent.com/a-/AOh14GhkNzAyX4yvcnHvQpbwcVSNTzIpr6aIC0MxHfd48g=s64",
      "userId": "11066035846197036072"
     },
     "user_tz": -180
    },
    "id": "StX1AgBC2iaN",
    "outputId": "8e916e7c-8153-4762-96b8-26ea45483085"
   },
   "outputs": [
    {
     "name": "stdout",
     "output_type": "stream",
     "text": [
      "<class 'pandas.core.frame.DataFrame'>\n",
      "RangeIndex: 1407328 entries, 0 to 1407327\n",
      "Data columns (total 5 columns):\n",
      " #   Column     Non-Null Count    Dtype \n",
      "---  ------     --------------    ----- \n",
      " 0   headline   1407328 non-null  object\n",
      " 1   url        1407328 non-null  object\n",
      " 2   publisher  1407328 non-null  object\n",
      " 3   date       1407328 non-null  object\n",
      " 4   stock      1407328 non-null  object\n",
      "dtypes: object(5)\n",
      "memory usage: 53.7+ MB\n"
     ]
    }
   ],
   "source": [
    "df.info()"
   ]
  },
  {
   "cell_type": "code",
   "execution_count": 45,
   "metadata": {
    "colab": {
     "base_uri": "https://localhost:8080/"
    },
    "executionInfo": {
     "elapsed": 709,
     "status": "ok",
     "timestamp": 1619606925077,
     "user": {
      "displayName": "Hossein Gerami Tehrani",
      "photoUrl": "https://lh3.googleusercontent.com/a-/AOh14GhkNzAyX4yvcnHvQpbwcVSNTzIpr6aIC0MxHfd48g=s64",
      "userId": "11066035846197036072"
     },
     "user_tz": -180
    },
    "id": "Hgm4XXKK2iaQ",
    "outputId": "34609378-a7b3-4206-9d6d-05bae2084360"
   },
   "outputs": [
    {
     "data": {
      "text/plain": [
       "1407328"
      ]
     },
     "execution_count": 45,
     "metadata": {
      "tags": []
     },
     "output_type": "execute_result"
    }
   ],
   "source": [
    "df.headline.count()"
   ]
  },
  {
   "cell_type": "markdown",
   "metadata": {
    "id": "15tszixc2iaS"
   },
   "source": [
    "There is no Null value in dataset"
   ]
  },
  {
   "cell_type": "markdown",
   "metadata": {
    "id": "XQKVv8eZ2iaU"
   },
   "source": [
    "## Get rid out of duplicates"
   ]
  },
  {
   "cell_type": "code",
   "execution_count": 46,
   "metadata": {
    "executionInfo": {
     "elapsed": 4194,
     "status": "ok",
     "timestamp": 1619606939838,
     "user": {
      "displayName": "Hossein Gerami Tehrani",
      "photoUrl": "https://lh3.googleusercontent.com/a-/AOh14GhkNzAyX4yvcnHvQpbwcVSNTzIpr6aIC0MxHfd48g=s64",
      "userId": "11066035846197036072"
     },
     "user_tz": -180
    },
    "id": "f7Q-Eqkm2iaV"
   },
   "outputs": [],
   "source": [
    "df.drop_duplicates(['stock', 'url'], inplace=True)"
   ]
  },
  {
   "cell_type": "code",
   "execution_count": 47,
   "metadata": {
    "colab": {
     "base_uri": "https://localhost:8080/"
    },
    "executionInfo": {
     "elapsed": 2849,
     "status": "ok",
     "timestamp": 1619606941178,
     "user": {
      "displayName": "Hossein Gerami Tehrani",
      "photoUrl": "https://lh3.googleusercontent.com/a-/AOh14GhkNzAyX4yvcnHvQpbwcVSNTzIpr6aIC0MxHfd48g=s64",
      "userId": "11066035846197036072"
     },
     "user_tz": -180
    },
    "id": "j3ygVks32iaY",
    "outputId": "0a545499-f68c-4145-d686-9c113d0ffee4"
   },
   "outputs": [
    {
     "data": {
      "text/plain": [
       "1407326"
      ]
     },
     "execution_count": 47,
     "metadata": {
      "tags": []
     },
     "output_type": "execute_result"
    }
   ],
   "source": [
    "df.headline.count()"
   ]
  },
  {
   "cell_type": "markdown",
   "metadata": {
    "id": "ANlX7hQJ2iaa"
   },
   "source": [
    "## Labeling"
   ]
  },
  {
   "cell_type": "code",
   "execution_count": 9,
   "metadata": {
    "executionInfo": {
     "elapsed": 719,
     "status": "ok",
     "timestamp": 1619603349130,
     "user": {
      "displayName": "Hossein Gerami Tehrani",
      "photoUrl": "https://lh3.googleusercontent.com/a-/AOh14GhkNzAyX4yvcnHvQpbwcVSNTzIpr6aIC0MxHfd48g=s64",
      "userId": "11066035846197036072"
     },
     "user_tz": -180
    },
    "id": "XtyZFHWU2iab"
   },
   "outputs": [],
   "source": [
    "import pickle\n",
    "from tqdm import tqdm\n",
    "from datetime import date, timedelta\n",
    "import yfinance as yf"
   ]
  },
  {
   "cell_type": "markdown",
   "metadata": {
    "id": "_CwAXZZR2iae"
   },
   "source": [
    "### Getting Stock history"
   ]
  },
  {
   "cell_type": "markdown",
   "metadata": {},
   "source": [
    "### Getting Stock history"
   ]
  },
  {
   "cell_type": "code",
   "execution_count": 16,
   "metadata": {},
   "outputs": [],
   "source": [
    "all_tickers = df['stock'].unique()"
   ]
  },
  {
   "cell_type": "code",
   "execution_count": 17,
   "metadata": {},
   "outputs": [],
   "source": [
    "pickle_filename = \"stocks.pickle\"\n",
    "pickle_path = os.path.join(data_path, pickle_filename)\n",
    "if not os.path.exists(pickle_path):\n",
    "    tickers_history_dict = {}\n",
    "    start_time = '2009-02-14'\n",
    "    end_time = '2020-06-11'\n",
    "    \n",
    "    for ticker in tqdm(all_tickers):\n",
    "        t = yf.Ticker(ticker)\n",
    "        tickers_history_dict[ticker] = t.history(start=start_time, end=end_time)\n",
    "\n",
    "    file_to_write = open(pickle_path), \"wb\")\n",
    "    pickle.dump(tickers_history_dict, file_to_write)\n",
    "    file_to_write.close()"
   ]
  },
  {
   "cell_type": "code",
   "execution_count": 10,
   "metadata": {
    "executionInfo": {
     "elapsed": 10916,
     "status": "ok",
     "timestamp": 1619603393865,
     "user": {
      "displayName": "Hossein Gerami Tehrani",
      "photoUrl": "https://lh3.googleusercontent.com/a-/AOh14GhkNzAyX4yvcnHvQpbwcVSNTzIpr6aIC0MxHfd48g=s64",
      "userId": "11066035846197036072"
     },
     "user_tz": -180
    },
    "id": "Sgg-QK522ia-"
   },
   "outputs": [],
   "source": [
    "p_file = open(pickle_path, 'rb')\n",
    "stock_history = pickle.load(p_file)\n",
    "p_file.close()"
   ]
  },
  {
   "cell_type": "code",
   "execution_count": 11,
   "metadata": {
    "executionInfo": {
     "elapsed": 646,
     "status": "ok",
     "timestamp": 1619603400674,
     "user": {
      "displayName": "Hossein Gerami Tehrani",
      "photoUrl": "https://lh3.googleusercontent.com/a-/AOh14GhkNzAyX4yvcnHvQpbwcVSNTzIpr6aIC0MxHfd48g=s64",
      "userId": "11066035846197036072"
     },
     "user_tz": -180
    },
    "id": "0XJOKpyz2ibD"
   },
   "outputs": [],
   "source": [
    "ALL_TICKERS = stock_history.keys()"
   ]
  },
  {
   "cell_type": "code",
   "execution_count": 26,
   "metadata": {
    "executionInfo": {
     "elapsed": 559,
     "status": "ok",
     "timestamp": 1619603560277,
     "user": {
      "displayName": "Hossein Gerami Tehrani",
      "photoUrl": "https://lh3.googleusercontent.com/a-/AOh14GhkNzAyX4yvcnHvQpbwcVSNTzIpr6aIC0MxHfd48g=s64",
      "userId": "11066035846197036072"
     },
     "user_tz": -180
    },
    "id": "KSUbhmtQ2ibE"
   },
   "outputs": [],
   "source": [
    "import datetime\n",
    "import holidays\n",
    "\n",
    "ONE_DAY = datetime.timedelta(days=1)\n",
    "HOLIDAYS_US = holidays.US()\n",
    "\n",
    "def next_business_day(today_date):\n",
    "    next_day = today_date + ONE_DAY\n",
    "    while next_day.weekday() in holidays.WEEKEND or next_day in HOLIDAYS_US:\n",
    "        next_day += ONE_DAY\n",
    "    return next_day.strftime('%Y-%m-%d')\n",
    "\n",
    "\n",
    "def get_stock_status(row, stock_history):\n",
    "    global TICKERS_HISTORY\n",
    "    ticker = row['stock']\n",
    "    today = row['date'].split()[0]\n",
    "    today_date = date.fromisoformat(today)\n",
    "    next_day = next_business_day(today_date)\n",
    "    if ticker in ALL_TICKERS:\n",
    "        ticker_history = stock_history[ticker]\n",
    "        if today in ticker_history.index and next_day in ticker_history.index:\n",
    "            today_close_price = ticker_history.loc[today]['Close']\n",
    "            tomorrow_close_price = ticker_history.loc[next_day]['Close']\n",
    "            if today_close_price < tomorrow_close_price:\n",
    "                # Raise\n",
    "                return 1\n",
    "            else:\n",
    "                # Fall\n",
    "                return 0\n",
    "    return np.nan"
   ]
  },
  {
   "cell_type": "code",
   "execution_count": 24,
   "metadata": {
    "colab": {
     "base_uri": "https://localhost:8080/"
    },
    "executionInfo": {
     "elapsed": 570,
     "status": "ok",
     "timestamp": 1619603436945,
     "user": {
      "displayName": "Hossein Gerami Tehrani",
      "photoUrl": "https://lh3.googleusercontent.com/a-/AOh14GhkNzAyX4yvcnHvQpbwcVSNTzIpr6aIC0MxHfd48g=s64",
      "userId": "11066035846197036072"
     },
     "user_tz": -180
    },
    "id": "AEHe_sYi2ibJ",
    "outputId": "6ff77641-1df6-4a07-e9e9-e687310fbe99"
   },
   "outputs": [
    {
     "name": "stderr",
     "output_type": "stream",
     "text": [
      "/usr/local/lib/python3.7/dist-packages/tqdm/std.py:658: FutureWarning: The Panel class is removed from pandas. Accessing it from the top-level namespace will also be removed in the next version\n",
      "  from pandas import Panel\n"
     ]
    }
   ],
   "source": [
    "tqdm.pandas()"
   ]
  },
  {
   "cell_type": "code",
   "execution_count": null,
   "metadata": {
    "colab": {
     "base_uri": "https://localhost:8080/"
    },
    "id": "nj_9YDOP2ibK",
    "outputId": "7ba12ad8-675b-4e8b-a554-c9c34fabe336"
   },
   "outputs": [],
   "source": [
    "labels = df.progress_apply(lambda row: get_stock_status(row, stock_history), axis=1, result_type='expand')"
   ]
  },
  {
   "cell_type": "code",
   "execution_count": 48,
   "metadata": {
    "executionInfo": {
     "elapsed": 1370,
     "status": "ok",
     "timestamp": 1619606963853,
     "user": {
      "displayName": "Hossein Gerami Tehrani",
      "photoUrl": "https://lh3.googleusercontent.com/a-/AOh14GhkNzAyX4yvcnHvQpbwcVSNTzIpr6aIC0MxHfd48g=s64",
      "userId": "11066035846197036072"
     },
     "user_tz": -180
    },
    "id": "zdyM4iOACZoy"
   },
   "outputs": [],
   "source": [
    "df['increased'] = labels"
   ]
  },
  {
   "cell_type": "code",
   "execution_count": 49,
   "metadata": {
    "colab": {
     "base_uri": "https://localhost:8080/"
    },
    "executionInfo": {
     "elapsed": 1018,
     "status": "ok",
     "timestamp": 1619606974923,
     "user": {
      "displayName": "Hossein Gerami Tehrani",
      "photoUrl": "https://lh3.googleusercontent.com/a-/AOh14GhkNzAyX4yvcnHvQpbwcVSNTzIpr6aIC0MxHfd48g=s64",
      "userId": "11066035846197036072"
     },
     "user_tz": -180
    },
    "id": "R9L7A8PTDG5-",
    "outputId": "55dfdacd-1a86-465b-ac21-8a5d17a0a30c"
   },
   "outputs": [
    {
     "name": "stdout",
     "output_type": "stream",
     "text": [
      "<class 'pandas.core.frame.DataFrame'>\n",
      "Int64Index: 1407326 entries, 0 to 1407327\n",
      "Data columns (total 6 columns):\n",
      " #   Column     Non-Null Count    Dtype  \n",
      "---  ------     --------------    -----  \n",
      " 0   headline   1407326 non-null  object \n",
      " 1   url        1407326 non-null  object \n",
      " 2   publisher  1407326 non-null  object \n",
      " 3   date       1407326 non-null  object \n",
      " 4   stock      1407326 non-null  object \n",
      " 5   increased  1052624 non-null  float64\n",
      "dtypes: float64(1), object(5)\n",
      "memory usage: 75.2+ MB\n"
     ]
    }
   ],
   "source": [
    "df.info()"
   ]
  },
  {
   "cell_type": "code",
   "execution_count": 50,
   "metadata": {
    "executionInfo": {
     "elapsed": 2166,
     "status": "ok",
     "timestamp": 1619606980495,
     "user": {
      "displayName": "Hossein Gerami Tehrani",
      "photoUrl": "https://lh3.googleusercontent.com/a-/AOh14GhkNzAyX4yvcnHvQpbwcVSNTzIpr6aIC0MxHfd48g=s64",
      "userId": "11066035846197036072"
     },
     "user_tz": -180
    },
    "id": "MlK6-gZTD5mB"
   },
   "outputs": [],
   "source": [
    "labeled_df = df.dropna()"
   ]
  },
  {
   "cell_type": "code",
   "execution_count": 51,
   "metadata": {
    "executionInfo": {
     "elapsed": 11539,
     "status": "ok",
     "timestamp": 1619607011569,
     "user": {
      "displayName": "Hossein Gerami Tehrani",
      "photoUrl": "https://lh3.googleusercontent.com/a-/AOh14GhkNzAyX4yvcnHvQpbwcVSNTzIpr6aIC0MxHfd48g=s64",
      "userId": "11066035846197036072"
     },
     "user_tz": -180
    },
    "id": "N_-2bW26EAcv"
   },
   "outputs": [],
   "source": [
    "labeled_filename = 'labeled.csv'\n",
    "labeled_df.to_csv(os.path.join(data_path, labeled_filename), index=False)"
   ]
  }
 ],
 "metadata": {
  "colab": {
   "collapsed_sections": [],
   "name": "preprocessing.ipynb",
   "provenance": []
  },
  "kernelspec": {
   "display_name": "Python 3",
   "language": "python",
   "name": "python3"
  },
  "language_info": {
   "codemirror_mode": {
    "name": "ipython",
    "version": 3
   },
   "file_extension": ".py",
   "mimetype": "text/x-python",
   "name": "python",
   "nbconvert_exporter": "python",
   "pygments_lexer": "ipython3",
   "version": "3.8.5"
  }
 },
 "nbformat": 4,
 "nbformat_minor": 1
}
